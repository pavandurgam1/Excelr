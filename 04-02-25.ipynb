{
 "cells": [
  {
   "cell_type": "code",
   "execution_count": 1,
   "id": "c2b39ae6-2e7d-4f51-bc78-b125dfb812aa",
   "metadata": {},
   "outputs": [
    {
     "name": "stdout",
     "output_type": "stream",
     "text": [
      "Collecting emot\n",
      "  Downloading emot-3.1-py3-none-any.whl.metadata (396 bytes)\n",
      "Downloading emot-3.1-py3-none-any.whl (61 kB)\n",
      "Installing collected packages: emot\n",
      "Successfully installed emot-3.1\n"
     ]
    }
   ],
   "source": [
    "!pip install emot"
   ]
  },
  {
   "cell_type": "code",
   "execution_count": 19,
   "id": "1ab7babb-31d2-46a4-8f94-874003349b3d",
   "metadata": {},
   "outputs": [],
   "source": [
    "text1= \"What are you saying 😂.I am the boss 😎,and why are you so \""
   ]
  },
  {
   "cell_type": "code",
   "execution_count": 21,
   "id": "c2bfbf86-91dc-49c3-aeb6-68a2d78c16b9",
   "metadata": {},
   "outputs": [],
   "source": [
    "import re\n",
    "from emot.emo_unicode import UNICODE_EMOJI\n",
    "from emot.emo_unicode import EMOTICONS_EMO\n"
   ]
  },
  {
   "cell_type": "code",
   "execution_count": 23,
   "id": "43c462db-5c4a-4091-85e1-e498d04b2a44",
   "metadata": {},
   "outputs": [
    {
     "data": {
      "text/plain": [
       "'What are you saying face_with_tears_of_joy.I am the boss smiling_face_with_sunglasses,and why are you so '"
      ]
     },
     "execution_count": 23,
     "metadata": {},
     "output_type": "execute_result"
    }
   ],
   "source": [
    "def converting_emojis(text):\n",
    "    for emot in UNICODE_EMOJI:\n",
    "        text=text.replace(emot,\"_\".join(UNICODE_EMOJI[emot].replace(\",\",\"\")\\\n",
    "                                        .replace(\":\",\"\").split()))\n",
    "    return text\n",
    "converting_emojis(text1)"
   ]
  },
  {
   "cell_type": "code",
   "execution_count": null,
   "id": "9f8527fa-cba3-4c25-9ed5-53be01d919e4",
   "metadata": {},
   "outputs": [],
   "source": [
    "\n",
    "                                "
   ]
  }
 ],
 "metadata": {
  "kernelspec": {
   "display_name": "Python [conda env:base] *",
   "language": "python",
   "name": "conda-base-py"
  },
  "language_info": {
   "codemirror_mode": {
    "name": "ipython",
    "version": 3
   },
   "file_extension": ".py",
   "mimetype": "text/x-python",
   "name": "python",
   "nbconvert_exporter": "python",
   "pygments_lexer": "ipython3",
   "version": "3.12.7"
  }
 },
 "nbformat": 4,
 "nbformat_minor": 5
}
