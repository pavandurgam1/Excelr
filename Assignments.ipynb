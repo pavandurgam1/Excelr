{
  "nbformat": 4,
  "nbformat_minor": 0,
  "metadata": {
    "colab": {
      "provenance": [],
      "authorship_tag": "ABX9TyMeoSsYtFUc6nJ/uC0RDaLw",
      "include_colab_link": true
    },
    "kernelspec": {
      "name": "python3",
      "display_name": "Python 3"
    },
    "language_info": {
      "name": "python"
    }
  },
  "cells": [
    {
      "cell_type": "markdown",
      "metadata": {
        "id": "view-in-github",
        "colab_type": "text"
      },
      "source": [
        "<a href=\"https://colab.research.google.com/github/pavandurgam1/Excelr/blob/main/Assignments.ipynb\" target=\"_parent\"><img src=\"https://colab.research.google.com/assets/colab-badge.svg\" alt=\"Open In Colab\"/></a>"
      ]
    },
    {
      "cell_type": "code",
      "execution_count": 1,
      "metadata": {
        "colab": {
          "base_uri": "https://localhost:8080/"
        },
        "id": "uoKe0mznGAfG",
        "outputId": "02fba211-24db-414a-f7b0-600f505250fb"
      },
      "outputs": [
        {
          "output_type": "stream",
          "name": "stdout",
          "text": [
            "Integer Variable:\n",
            "Value: 42, Type: <class 'int'>\n",
            "\n",
            "Float Variable:\n",
            "Value: 3.14, Type: <class 'float'>\n",
            "\n",
            "String Variable:\n",
            "Value: 'Hello, WORLD!', Type: <class 'str'>\n",
            "\n",
            "Boolean Variable:\n",
            "Value: True, Type: <class 'bool'>\n"
          ]
        }
      ],
      "source": [
        "#1.Write a program in Jupyter Notebook to declare variables of different data types (integer, float, string, and boolean). Print each variable and its type.\n",
        "integer_var = 42\n",
        "float_var = 3.14\n",
        "string_var = \"Hello, WORLD!\"\n",
        "boolean_var = True\n",
        "print(\"Integer Variable:\")\n",
        "print(f\"Value: {integer_var}, Type: {type(integer_var)}\\n\")\n",
        "print(\"Float Variable:\")\n",
        "print(f\"Value: {float_var}, Type: {type(float_var)}\\n\")\n",
        "print(\"String Variable:\")\n",
        "print(f\"Value: '{string_var}', Type: {type(string_var)}\\n\")\n",
        "print(\"Boolean Variable:\")\n",
        "print(f\"Value: {boolean_var}, Type: {type(boolean_var)}\")"
      ]
    },
    {
      "cell_type": "code",
      "source": [
        "#2.Create a List, tuple and Dictionary with 5 elements in it and how to access few elements based on the index. Try  with different examples\n",
        "my_list = [10, 20, 30, 40, 50]\n",
        "print(\"List:\", my_list)\n",
        "print(\"First element of List:\", my_list[0])\n",
        "print(\"Last element of List:\", my_list[-1])\n",
        "print(\"Slice elements (2nd to 4th):\", my_list[1:4])\n",
        "print(\"\\n\")\n",
        "my_tuple = (\"apple\", \"banana\", \"cherry\", \"date\", \"elderberry\")\n",
        "print(\"Tuple:\", my_tuple)\n",
        "print(\"Second element of Tuple:\", my_tuple[1])\n",
        "print(\"Last element of Tuple:\", my_tuple[-1])\n",
        "print(\"Slice elements (3rd to last):\", my_tuple[2:])\n",
        "print(\"\\n\")\n",
        "my_dict = {\n",
        "    \"name\": \"Alice\",\n",
        "    \"age\": 25,\n",
        "    \"city\": \"New York\",\n",
        "    \"country\": \"USA\",\n",
        "    \"hobby\": \"reading\"\n",
        "}\n",
        "print(\"Dictionary:\", my_dict)\n",
        "print(\"Value of key 'name':\", my_dict[\"name\"])\n",
        "print(\"Value of key 'hobby':\", my_dict.get(\"hobby\"))\n",
        "print(\"Keys of the Dictionary:\", list(my_dict.keys()))\n",
        "print(\"Values of the Dictionary:\", list(my_dict.values()))"
      ],
      "metadata": {
        "colab": {
          "base_uri": "https://localhost:8080/"
        },
        "id": "1YEeRaI4GQdt",
        "outputId": "55ff0ab8-ecc9-4df0-a10d-0831de9a1215"
      },
      "execution_count": 2,
      "outputs": [
        {
          "output_type": "stream",
          "name": "stdout",
          "text": [
            "List: [10, 20, 30, 40, 50]\n",
            "First element of List: 10\n",
            "Last element of List: 50\n",
            "Slice elements (2nd to 4th): [20, 30, 40]\n",
            "\n",
            "\n",
            "Tuple: ('apple', 'banana', 'cherry', 'date', 'elderberry')\n",
            "Second element of Tuple: banana\n",
            "Last element of Tuple: elderberry\n",
            "Slice elements (3rd to last): ('cherry', 'date', 'elderberry')\n",
            "\n",
            "\n",
            "Dictionary: {'name': 'Alice', 'age': 25, 'city': 'New York', 'country': 'USA', 'hobby': 'reading'}\n",
            "Value of key 'name': Alice\n",
            "Value of key 'hobby': reading\n",
            "Keys of the Dictionary: ['name', 'age', 'city', 'country', 'hobby']\n",
            "Values of the Dictionary: ['Alice', 25, 'New York', 'USA', 'reading']\n"
          ]
        }
      ]
    },
    {
      "cell_type": "code",
      "source": [
        "#3.Write a Python program that takes a student's marks in three subjects as input.\n",
        "#If the average is greater than or equal to 90, print \"Grade: A\".\n",
        "#If the average is between 80 and 89, print \"Grade: B\".\n",
        "#If the average is between 70 and 79, print \"Grade: C\".\n",
        "#Otherwise, print \"Grade: Fail\".\n",
        "try:\n",
        "    subject1 = float(input(\"Enter marks for Subject 1: \"))\n",
        "    subject2 = float(input(\"Enter marks for Subject 2: \"))\n",
        "    subject3 = float(input(\"Enter marks for Subject 3: \"))\n",
        "    average = (subject1 + subject2 + subject3) / 3\n",
        "    if average >= 90:\n",
        "        grade = \"A\"\n",
        "    elif 80 <= average < 90:\n",
        "        grade = \"B\"\n",
        "    elif 70 <= average < 80:\n",
        "        grade = \"C\"\n",
        "    else:\n",
        "        grade = \"Fail\"\n",
        "    print(f\"Average Marks: {average:.2f}\")\n",
        "    print(f\"Grade: {grade}\")\n",
        "except ValueError:\n",
        "    print(\"Invalid input. Please enter numeric values for marks.\")"
      ],
      "metadata": {
        "colab": {
          "base_uri": "https://localhost:8080/"
        },
        "id": "yTpm_htNGYHR",
        "outputId": "492e6cd9-dd5c-4743-9d36-5edbfb904412"
      },
      "execution_count": 3,
      "outputs": [
        {
          "output_type": "stream",
          "name": "stdout",
          "text": [
            "Enter marks for Subject 1: 90\n",
            "Enter marks for Subject 2: 95\n",
            "Enter marks for Subject 3: 100\n",
            "Average Marks: 95.00\n",
            "Grade: A\n"
          ]
        }
      ]
    },
    {
      "cell_type": "code",
      "source": [
        "#4.Write a Python program to calculate the sum of all even numbers between 1 and a given positive integer n\n",
        "def sum_of_even_numbers(n):\n",
        "    if n < 1:\n",
        "        return 0\n",
        "    total_sum = 0\n",
        "    for i in range(2, n + 1, 2):\n",
        "        total_sum += i\n",
        "    return total_sum\n",
        "try:\n",
        "    n = int(input(\"Enter a positive integer: \"))\n",
        "    if n <= 0:\n",
        "        print(\"Please enter a positive integer greater than 0.\")\n",
        "    else:\n",
        "        result = sum_of_even_numbers(n)\n",
        "        print(f\"The sum of all even numbers between 1 and {n} is: {result}\")\n",
        "except ValueError:\n",
        "    print(\"Invalid input. Please enter a valid positive integer.\")\n",
        ""
      ],
      "metadata": {
        "colab": {
          "base_uri": "https://localhost:8080/"
        },
        "id": "dK9AovdDGaje",
        "outputId": "d6166e81-f509-42e7-e2fa-4be270b91da8"
      },
      "execution_count": 4,
      "outputs": [
        {
          "output_type": "stream",
          "name": "stdout",
          "text": [
            "Enter a positive integer: 2\n",
            "The sum of all even numbers between 1 and 2 is: 2\n"
          ]
        }
      ]
    },
    {
      "cell_type": "code",
      "source": [
        "#5.Write a Python program to calculate the frequency of each word in a given text. Print the words and their corresponding counts\n",
        "from collections import Counter\n",
        "def calculate_word_frequency(text):\n",
        "    words = text.lower().split()\n",
        "    word_count = Counter(words)\n",
        "    print(\"Word frequencies:\")\n",
        "    for word, count in word_count.items():\n",
        "        print(f\"{word}: {count}\")\n",
        "text = input(\"Enter a text: \")\n",
        "calculate_word_frequency(text)"
      ],
      "metadata": {
        "colab": {
          "base_uri": "https://localhost:8080/"
        },
        "id": "6BCG65orGgxB",
        "outputId": "c604e3a6-48f3-4b7a-ddb4-f5ff38e57899"
      },
      "execution_count": 5,
      "outputs": [
        {
          "output_type": "stream",
          "name": "stdout",
          "text": [
            "Enter a text: pavan\n",
            "Word frequencies:\n",
            "pavan: 1\n"
          ]
        }
      ]
    },
    {
      "cell_type": "code",
      "source": [
        "#6.Write a Python program to using NLTK and Spacy\n",
        "#Convert text to lowercase.\n",
        "#Remove stopwords using NLTK\n",
        "import nltk\n",
        "import spacy\n",
        "from nltk.corpus import stopwords\n",
        "nltk.download('stopwords')\n",
        "nlp = spacy.load(\"en_core_web_sm\")\n",
        "def process_text(text):\n",
        "    doc = nlp(text.lower())\n",
        "    stop_words = set(stopwords.words('english'))\n",
        "    filtered_tokens = [token.text for token in doc if token.text not in stop_words]\n",
        "    return \" \".join(filtered_tokens)\n",
        "if __name__ == \"__main__\":\n",
        "    input_text = \"This is a simple example to demonstrate text processing with NLTK and SpaCy.\"\n",
        "    processed_text = process_text(input_text)\n",
        "    print(\"Original Text:\", input_text)\n",
        "    print(\"Processed Text:\", processed_text)"
      ],
      "metadata": {
        "colab": {
          "base_uri": "https://localhost:8080/"
        },
        "id": "771ORI-7GmMk",
        "outputId": "bbfb7c3c-02e8-41df-969a-62231b633382"
      },
      "execution_count": 6,
      "outputs": [
        {
          "output_type": "stream",
          "name": "stderr",
          "text": [
            "[nltk_data] Downloading package stopwords to /root/nltk_data...\n",
            "[nltk_data]   Unzipping corpora/stopwords.zip.\n"
          ]
        },
        {
          "output_type": "stream",
          "name": "stdout",
          "text": [
            "Original Text: This is a simple example to demonstrate text processing with NLTK and SpaCy.\n",
            "Processed Text: simple example demonstrate text processing nltk spacy .\n"
          ]
        }
      ]
    },
    {
      "cell_type": "code",
      "source": [
        "import nltk\n",
        "nltk.download('punkt')\n",
        "nltk.download('wordnet')\n",
        "nltk.download('stopwords')"
      ],
      "metadata": {
        "colab": {
          "base_uri": "https://localhost:8080/"
        },
        "id": "2oKGWS1TGvh5",
        "outputId": "bff0b825-30f1-4fd6-a7e9-a546dd2fe6bf"
      },
      "execution_count": 7,
      "outputs": [
        {
          "output_type": "stream",
          "name": "stderr",
          "text": [
            "[nltk_data] Downloading package punkt to /root/nltk_data...\n",
            "[nltk_data]   Unzipping tokenizers/punkt.zip.\n",
            "[nltk_data] Downloading package wordnet to /root/nltk_data...\n",
            "[nltk_data] Downloading package stopwords to /root/nltk_data...\n",
            "[nltk_data]   Package stopwords is already up-to-date!\n"
          ]
        },
        {
          "output_type": "execute_result",
          "data": {
            "text/plain": [
              "True"
            ]
          },
          "metadata": {},
          "execution_count": 7
        }
      ]
    },
    {
      "cell_type": "code",
      "source": [
        "#7.Use Genism to preprocess data from a sample text file, follow basic procedures like tokenization, stemming, lemmatization etc.\n",
        "import nltk\n",
        "from gensim.utils import simple_preprocess\n",
        "from gensim.parsing.preprocessing import STOPWORDS\n",
        "from nltk.stem import PorterStemmer, WordNetLemmatizer\n",
        "nltk.download('wordnet')\n",
        "nltk.download('omw-1.4')\n",
        "def preprocess_text(text):\n",
        "    tokens = simple_preprocess(text, deacc=True)\n",
        "    tokens = [word for word in tokens if word not in STOPWORDS]\n",
        "    stemmer = PorterStemmer()\n",
        "    stemmed_tokens = [stemmer.stem(word) for word in tokens]\n",
        "    lemmatizer = WordNetLemmatizer()\n",
        "    lemmatized_tokens = [lemmatizer.lemmatize(word) for word in stemmed_tokens]\n",
        "    return lemmatized_tokens\n",
        "text_data = \"The quick brown fox jumps over the lazy dog. This is a test document for text preprocessing.\"\n",
        "preprocessed_data = preprocess_text(text_data)\n",
        "print(\"Preprocessed Text Tokens:\")\n",
        "print(preprocessed_data)"
      ],
      "metadata": {
        "colab": {
          "base_uri": "https://localhost:8080/"
        },
        "id": "-xJ7Bhf5G1YO",
        "outputId": "6b112252-f7e8-4e21-9470-587d9caf105e"
      },
      "execution_count": 8,
      "outputs": [
        {
          "output_type": "stream",
          "name": "stderr",
          "text": [
            "[nltk_data] Downloading package wordnet to /root/nltk_data...\n",
            "[nltk_data]   Package wordnet is already up-to-date!\n",
            "[nltk_data] Downloading package omw-1.4 to /root/nltk_data...\n"
          ]
        },
        {
          "output_type": "stream",
          "name": "stdout",
          "text": [
            "Preprocessed Text Tokens:\n",
            "['quick', 'brown', 'fox', 'jump', 'lazi', 'dog', 'test', 'document', 'text', 'preprocess']\n"
          ]
        }
      ]
    },
    {
      "cell_type": "code",
      "source": [
        "import nltk\n",
        "nltk.download('punkt_tab')"
      ],
      "metadata": {
        "colab": {
          "base_uri": "https://localhost:8080/"
        },
        "id": "gEmrJfH3HDrO",
        "outputId": "97a56588-ce10-4c50-f81c-5306ef68c695"
      },
      "execution_count": 11,
      "outputs": [
        {
          "output_type": "stream",
          "name": "stderr",
          "text": [
            "[nltk_data] Downloading package punkt_tab to /root/nltk_data...\n",
            "[nltk_data]   Unzipping tokenizers/punkt_tab.zip.\n"
          ]
        },
        {
          "output_type": "execute_result",
          "data": {
            "text/plain": [
              "True"
            ]
          },
          "metadata": {},
          "execution_count": 11
        }
      ]
    },
    {
      "cell_type": "code",
      "source": [
        "#8.Tokenizes a sample paragraph into words and sentences.\n",
        "import nltk\n",
        "nltk.download('punkt')\n",
        "def tokenize_text(paragraph):\n",
        "    \"\"\"\n",
        "    Tokenizes the input paragraph into sentences and words.\n",
        "\n",
        "    Args:\n",
        "        paragraph (str): The input text to be tokenized.\n",
        "\n",
        "    Returns:\n",
        "        tuple: A tuple containing a list of sentences and a list of words.\n",
        "    \"\"\"\n",
        "    sentences = nltk.sent_tokenize(paragraph)\n",
        "    words = nltk.word_tokenize(paragraph)\n",
        "    return sentences, words\n",
        "if __name__ == \"__main__\":\n",
        "    sample_paragraph = (\n",
        "        \"Natural Language Processing is an exciting field of Artificial Intelligence. \"\n",
        "        \"It involves enabling machines to understand and process human languages.\"\n",
        "    )\n",
        "    sentences, words = tokenize_text(sample_paragraph)\n",
        "    print(\"Original Paragraph:\")\n",
        "    print(sample_paragraph)\n",
        "    print(\"\\nTokenized Sentences:\")\n",
        "    print(sentences)\n",
        "    print(\"\\nTokenized Words:\")\n",
        "    print(words)"
      ],
      "metadata": {
        "colab": {
          "base_uri": "https://localhost:8080/"
        },
        "id": "peaVrWNsG36T",
        "outputId": "1e840cc5-0420-46d3-cefa-ddb5e24f0e02"
      },
      "execution_count": 12,
      "outputs": [
        {
          "output_type": "stream",
          "name": "stdout",
          "text": [
            "Original Paragraph:\n",
            "Natural Language Processing is an exciting field of Artificial Intelligence. It involves enabling machines to understand and process human languages.\n",
            "\n",
            "Tokenized Sentences:\n",
            "['Natural Language Processing is an exciting field of Artificial Intelligence.', 'It involves enabling machines to understand and process human languages.']\n",
            "\n",
            "Tokenized Words:\n",
            "['Natural', 'Language', 'Processing', 'is', 'an', 'exciting', 'field', 'of', 'Artificial', 'Intelligence', '.', 'It', 'involves', 'enabling', 'machines', 'to', 'understand', 'and', 'process', 'human', 'languages', '.']\n"
          ]
        },
        {
          "output_type": "stream",
          "name": "stderr",
          "text": [
            "[nltk_data] Downloading package punkt to /root/nltk_data...\n",
            "[nltk_data]   Package punkt is already up-to-date!\n"
          ]
        }
      ]
    },
    {
      "cell_type": "code",
      "source": [
        "#9.Write a Python function to clean a given text by removing special characters and converting it to lowercase. Test it with the input: 'Hello, World! Welcome to NLP 101.'\n",
        "import re\n",
        "def clean_text(text):\n",
        "    \"\"\"\n",
        "    Cleans the input text by:\n",
        "    1. Removing special characters.\n",
        "    2. Converting the text to lowercase.\n",
        "\n",
        "    Parameters:\n",
        "        text (str): The input text to clean.\n",
        "\n",
        "    Returns:\n",
        "        str: The cleaned text.\n",
        "    \"\"\"\n",
        "    cleaned_text = re.sub(r'[^a-zA-Z0-9\\s]', '', text)\n",
        "    cleaned_text = cleaned_text.lower()\n",
        "    return cleaned_text\n",
        "input_text = 'Hello, World! Welcome to NLP 101.'\n",
        "cleaned_text = clean_text(input_text)\n",
        "print(\"Original Text:\", input_text)\n",
        "print(\"Cleaned Text:\", cleaned_text)"
      ],
      "metadata": {
        "colab": {
          "base_uri": "https://localhost:8080/"
        },
        "id": "MXFP0ihzHKFf",
        "outputId": "8fb651a7-7368-479b-b199-8e8301c2a894"
      },
      "execution_count": 13,
      "outputs": [
        {
          "output_type": "stream",
          "name": "stdout",
          "text": [
            "Original Text: Hello, World! Welcome to NLP 101.\n",
            "Cleaned Text: hello world welcome to nlp 101\n"
          ]
        }
      ]
    },
    {
      "cell_type": "code",
      "source": [
        "#10.Write a Python function using regular expressions to extract all email addresses from a given string. Test it with the input: 'Contact us at support@example.com and sales@example.org.'\n",
        "import re\n",
        "def extract_emails(text):\n",
        "    \"\"\"\n",
        "    Extract all email addresses from the given string using regular expressions.\n",
        "\n",
        "    Parameters:\n",
        "        text (str): The input string containing email addresses.\n",
        "\n",
        "    Returns:\n",
        "        list: A list of email addresses found in the input string.\n",
        "    \"\"\"\n",
        "    email_pattern = r'[a-zA-Z0-9._%+-]+@[a-zA-Z0-9.-]+\\.[a-zA-Z]{2,}'\n",
        "    return re.findall(email_pattern, text)\n",
        "\n",
        "input_text = 'Contact us at support@example.com and sales@example.org.'\n",
        "extracted_emails = extract_emails(input_text)\n",
        "print(extracted_emails)"
      ],
      "metadata": {
        "colab": {
          "base_uri": "https://localhost:8080/"
        },
        "id": "ZZOnHjkkHVn1",
        "outputId": "7305578a-bc4c-4fee-a952-31d3dcfbd115"
      },
      "execution_count": 14,
      "outputs": [
        {
          "output_type": "stream",
          "name": "stdout",
          "text": [
            "['support@example.com', 'sales@example.org']\n"
          ]
        }
      ]
    },
    {
      "cell_type": "code",
      "source": [
        "#11.Write a Python script to fetch and print the title of a webpage using the 'requests' and 'BeautifulSoup' libraries. Test it with the URL: 'https://example.com'.\n",
        "import re\n",
        "import requests\n",
        "from bs4 import BeautifulSoup\n",
        "from collections import Counter\n",
        "import nltk\n",
        "from nltk.tokenize import word_tokenize, sent_tokenize\n",
        "\n",
        "# Ensure necessary NLTK resources are available\n",
        "nltk.download('punkt')\n",
        "\n",
        "def word_frequency(text):\n",
        "    # Convert text to lowercase and split into words\n",
        "    words = text.lower().split()\n",
        "\n",
        "    # Count frequency of each word\n",
        "    word_counts = Counter(words)\n",
        "\n",
        "    # Print words and their frequencies\n",
        "    for word, count in word_counts.items():\n",
        "        print(f\"{word}: {count}\")\n",
        "\n",
        "def extract_emails(text):\n",
        "    # Regular expression pattern for email addresses\n",
        "    email_pattern = r'\\b[A-Za-z0-9._%+-]+@[A-Za-z0-9.-]+\\.[A-Z|a-z]{2,}\\b'\n",
        "    return re.findall(email_pattern, text)\n",
        "\n",
        "def tokenize_text(text):\n",
        "    words = word_tokenize(text)\n",
        "    sentences = sent_tokenize(text)\n",
        "    return words, sentences\n",
        "\n",
        "def fetch_webpage_title(url):\n",
        "    response = requests.get(url)\n",
        "    soup = BeautifulSoup(response.text, 'html.parser')\n",
        "    return soup.title.string if soup.title else \"No title found\"\n",
        "\n",
        "# Example usage\n",
        "if __name__ == \"__main__\":\n",
        "    text = input(\"Enter a text: \")\n",
        "    word_frequency(text)\n",
        "    emails = extract_emails(text)\n",
        "    print(\"Extracted emails:\", emails)\n",
        "    words, sentences = tokenize_text(text)\n",
        "    print(\"Tokenized words:\", words)\n",
        "    print(\"Tokenized sentences:\", sentences)\n",
        "\n",
        "    url = \"https://example.com\"\n",
        "    print(\"Webpage title:\", fetch_webpage_title(url))"
      ],
      "metadata": {
        "colab": {
          "base_uri": "https://localhost:8080/"
        },
        "id": "_hQkFcraHYHK",
        "outputId": "a639de52-a85d-40fc-de9d-1b51cfe35b7d"
      },
      "execution_count": 15,
      "outputs": [
        {
          "output_type": "stream",
          "name": "stderr",
          "text": [
            "[nltk_data] Downloading package punkt to /root/nltk_data...\n",
            "[nltk_data]   Package punkt is already up-to-date!\n"
          ]
        },
        {
          "output_type": "stream",
          "name": "stdout",
          "text": [
            "Enter a text: pavan\n",
            "pavan: 1\n",
            "Extracted emails: []\n",
            "Tokenized words: ['pavan']\n",
            "Tokenized sentences: ['pavan']\n",
            "Webpage title: Example Domain\n"
          ]
        }
      ]
    },
    {
      "cell_type": "code",
      "source": [
        "#12.Write a Python script to generate a WordCloud from the text: 'data science machine learning artificial intelligence'. Save the WordCloud as an image.\n",
        "from wordcloud import WordCloud\n",
        "import matplotlib.pyplot as plt\n",
        "text = 'data science machine learning artificial intelligence'\n",
        "wordcloud = WordCloud(width=800, height=400, background_color='white').generate(text)\n",
        "output_image = 'wordcloud.png'\n",
        "wordcloud.to_file(output_image)\n",
        "plt.figure(figsize=(10, 5))\n",
        "plt.imshow(wordcloud, interpolation='bilinear')\n",
        "plt.axis('off')\n",
        "plt.show()\n",
        "print(f\"WordCloud saved as {output_image}\")"
      ],
      "metadata": {
        "colab": {
          "base_uri": "https://localhost:8080/",
          "height": 357
        },
        "id": "YyLADjwsHaql",
        "outputId": "b709331e-a813-4847-a31c-d5b3b23aa156"
      },
      "execution_count": 16,
      "outputs": [
        {
          "output_type": "display_data",
          "data": {
            "text/plain": [
              "<Figure size 1000x500 with 1 Axes>"
            ],
            "image/png": "[encoded data removed]"
          },
          "metadata": {}
        },
        {
          "output_type": "stream",
          "name": "stdout",
          "text": [
            "WordCloud saved as wordcloud.png\n"
          ]
        }
      ]
    },
    {
      "cell_type": "code",
      "source": [
        "#13.Write a Python script to perform part-of-speech tagging on the sentence: 'NLP is amazing and fun to learn.' using SpaCy.\n",
        "import spacy\n",
        "nlp = spacy.load(\"en_core_web_sm\")\n",
        "sentence = \"NLP is amazing and fun to learn.\"\n",
        "doc = nlp(sentence)\n",
        "print(\"Token\\tPOS\\tExplanation\")\n",
        "print(\"-\" * 30)\n",
        "for token in doc:\n",
        "    print(f\"{token.text}\\t{token.pos_}\\t{token.pos_}\")"
      ],
      "metadata": {
        "colab": {
          "base_uri": "https://localhost:8080/"
        },
        "id": "DDq39Xo5Hh2g",
        "outputId": "1dc12473-247d-4398-80c3-71e743c00fb8"
      },
      "execution_count": 17,
      "outputs": [
        {
          "output_type": "stream",
          "name": "stderr",
          "text": [
            "/usr/local/lib/python3.11/dist-packages/spacy/util.py:1740: UserWarning: [W111] Jupyter notebook detected: if using `prefer_gpu()` or `require_gpu()`, include it in the same cell right before `spacy.load()` to ensure that the model is loaded on the correct device. More information: http://spacy.io/usage/v3#jupyter-notebook-gpu\n",
            "  warnings.warn(Warnings.W111)\n"
          ]
        },
        {
          "output_type": "stream",
          "name": "stdout",
          "text": [
            "Token\tPOS\tExplanation\n",
            "------------------------------\n",
            "NLP\tPROPN\tPROPN\n",
            "is\tAUX\tAUX\n",
            "amazing\tADJ\tADJ\n",
            "and\tCCONJ\tCCONJ\n",
            "fun\tADJ\tADJ\n",
            "to\tPART\tPART\n",
            "learn\tVERB\tVERB\n",
            ".\tPUNCT\tPUNCT\n"
          ]
        }
      ]
    },
    {
      "cell_type": "code",
      "source": [
        " #14.Write a Python program to load a text file, tokenize the text using NLTK, and display the 10 most common words. Use the NL\n",
        "import nltk\n",
        "from nltk.tokenize import word_tokenize\n",
        "from nltk.probability import FreqDist\n",
        "from nltk.corpus import stopwords\n",
        "import string\n",
        "import os\n",
        "nltk.download('punkt')\n",
        "nltk.download('stopwords')\n",
        "file_path = \"sample.txt\"\n",
        " def process_text(file_path):\n",
        "    try:\n",
        "        if not os.path.exists(file_path):\n",
        "            print(f\"Error: File '{file_path}' not found. Please check the file path.\")\n",
        "            return\n",
        "        with open(file_path, \"r\", encoding=\"utf-8\") as file:\n",
        "            text = file.read()\n",
        "        words = word_tokenize(text)\n",
        "        stop_words = set(stopwords.words(\"english\"))\n",
        "        words_filtered = [word.lower() for word in words if word.isalpha() and word.lower() not in stop_words]\n",
        "        freq_dist = FreqDist(words_filtered)\n",
        "        print(\"\\nTop 10 Most Common Words:\")\n",
        "        for word, count in freq_dist.most_common(10):\n",
        "            print(f\"{word}: {count}\")\n",
        "    except Exception as e:\n",
        "        print(f\"An error occurred: {e}\")\n",
        "        process_text(file_path)"
      ],
      "metadata": {
        "colab": {
          "base_uri": "https://localhost:8080/"
        },
        "id": "NWtVt4lHHlJl",
        "outputId": "64224bbf-1c17-4e64-cbc4-bc8b49009356"
      },
      "execution_count": 18,
      "outputs": [
        {
          "output_type": "stream",
          "name": "stderr",
          "text": [
            "[nltk_data] Downloading package punkt to /root/nltk_data...\n",
            "[nltk_data]   Package punkt is already up-to-date!\n",
            "[nltk_data] Downloading package stopwords to /root/nltk_data...\n",
            "[nltk_data]   Package stopwords is already up-to-date!\n"
          ]
        }
      ]
    },
    {
      "cell_type": "code",
      "source": [
        " #15.Write a Python program to calculate the cosine similarity between two strings using the Scikit-learn library. You can use\n",
        "from sklearn.feature_extraction.text import TfidfVectorizer\n",
        " from sklearn.metrics.pairwise import cosine_similarity\n",
        "def calculate_cosine_similarity(text1, text2):\n",
        "    \"\"\"\n",
        "    Calculate the cosine similarity between two strings.\n",
        "    Args:\n",
        "        text1 (str): The first text string.\n",
        "        text2 (str): The second text string.\n",
        "    Returns:\n",
        "        float: The cosine similarity score between the two texts.\n",
        "    \"\"\"\n",
        "    vectorizer = TfidfVectorizer()\n",
        "    tfidf_matrix = vectorizer.fit_transform([text1, text2])\n",
        "    similarity = cosine_similarity(tfidf_matrix[0:1], tfidf_matrix[1:2])[0][0]\n",
        "    return similarity\n",
        " def main():\n",
        "    text1 = input(\"Enter the first string: \")\n",
        "    text2 = input(\"Enter the second string: \")\n",
        "    similarity = calculate_cosine_similarity(text1, text2)\n",
        "    print(f\"\\nCosine Similarity: {similarity:.4f}\")\n",
        "if __name__ == \"__main__\":\n",
        "    main()"
      ],
      "metadata": {
        "colab": {
          "base_uri": "https://localhost:8080/"
        },
        "id": "1zvgSZAUHn9h",
        "outputId": "81c0b7d3-4c7a-4443-97ff-341b954a9253"
      },
      "execution_count": 19,
      "outputs": [
        {
          "output_type": "stream",
          "name": "stdout",
          "text": [
            "Enter the first string: hello\n",
            "Enter the second string: paaaa\n",
            "\n",
            "Cosine Similarity: 0.0000\n"
          ]
        }
      ]
    },
    {
      "cell_type": "code",
      "source": [
        " #16.Write a Python program to perform Named Entity Recognition (NER) on a given text using SpaCy. Print the entities and their\n",
        "import spacy\n",
        "nlp = spacy.load(\"en_core_web_sm\")\n",
        "text = \"\"\"Elon Musk, the CEO of Tesla and SpaceX, was born in Pretoria, South Africa.\n",
        "He founded PayPal, which was later acquired by eBay for $1.5 billion.\n",
        "Tesla's headquarters is in Palo Alto, California.\"\"\"\n",
        "doc = nlp(text)\n",
        "print(\"Named Entities and their Types:\")\n",
        "for ent in doc.ents:\n",
        "    print(f\"{ent.text} -> {ent.label_}\")\n",
        "    print(\"\\nEntity Type Descriptions:\")\n",
        "for ent in doc.ents:\n",
        "    print(f\"{ent.label_}: {spacy.explain(ent.label_)}\")"
      ],
      "metadata": {
        "colab": {
          "base_uri": "https://localhost:8080/"
        },
        "id": "y7zX3P5yHqhA",
        "outputId": "45036629-317a-4693-b964-426d103bf263"
      },
      "execution_count": 20,
      "outputs": [
        {
          "output_type": "stream",
          "name": "stdout",
          "text": [
            "Named Entities and their Types:\n",
            "Elon Musk -> PERSON\n",
            "\n",
            "Entity Type Descriptions:\n",
            "Tesla -> ORG\n",
            "\n",
            "Entity Type Descriptions:\n",
            "Pretoria -> GPE\n",
            "\n",
            "Entity Type Descriptions:\n",
            "South Africa -> GPE\n",
            "\n",
            "Entity Type Descriptions:\n",
            "PayPal -> ORG\n",
            "\n",
            "Entity Type Descriptions:\n",
            "eBay -> ORG\n",
            "\n",
            "Entity Type Descriptions:\n",
            "$1.5 billion -> MONEY\n",
            "\n",
            "Entity Type Descriptions:\n",
            "Tesla -> ORG\n",
            "\n",
            "Entity Type Descriptions:\n",
            "Palo Alto -> GPE\n",
            "\n",
            "Entity Type Descriptions:\n",
            "California -> GPE\n",
            "\n",
            "Entity Type Descriptions:\n",
            "PERSON: People, including fictional\n",
            "ORG: Companies, agencies, institutions, etc.\n",
            "GPE: Countries, cities, states\n",
            "GPE: Countries, cities, states\n",
            "ORG: Companies, agencies, institutions, etc.\n",
            "ORG: Companies, agencies, institutions, etc.\n",
            "MONEY: Monetary values, including unit\n",
            "ORG: Companies, agencies, institutions, etc.\n",
            "GPE: Countries, cities, states\n",
            "GPE: Countries, cities, states\n"
          ]
        }
      ]
    },
    {
      "cell_type": "code",
      "source": [],
      "metadata": {
        "id": "57JtLO9GHvyz"
      },
      "execution_count": null,
      "outputs": []
    }
  ]
}