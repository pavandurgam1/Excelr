{
  "nbformat": 4,
  "nbformat_minor": 0,
  "metadata": {
    "colab": {
      "provenance": [],
      "authorship_tag": "ABX9TyOc4/PFEFNhij1Owqh2UShs",
      "include_colab_link": true
    },
    "kernelspec": {
      "name": "python3",
      "display_name": "Python 3"
    },
    "language_info": {
      "name": "python"
    }
  },
  "cells": [
    {
      "cell_type": "markdown",
      "metadata": {
        "id": "view-in-github",
        "colab_type": "text"
      },
      "source": [
        "<a href=\"https://colab.research.google.com/github/pavandurgam1/Excelr/blob/main/Gemini_ai_pdf_report_analysis.ipynb\" target=\"_parent\"><img src=\"https://colab.research.google.com/assets/colab-badge.svg\" alt=\"Open In Colab\"/></a>"
      ]
    },
    {
      "cell_type": "code",
      "execution_count": 14,
      "metadata": {
        "colab": {
          "base_uri": "https://localhost:8080/"
        },
        "id": "6U2Kr-uBg9dp",
        "outputId": "7cfd26bf-69ab-495f-e479-3d3a6cb25c90"
      },
      "outputs": [
        {
          "output_type": "stream",
          "name": "stdout",
          "text": [
            "Requirement already satisfied: PyPDF2 in /usr/local/lib/python3.11/dist-packages (3.0.1)\n"
          ]
        }
      ],
      "source": [
        "pip install PyPDF2"
      ]
    },
    {
      "cell_type": "code",
      "source": [
        "import google.generativeai as genai\n",
        "from google.colab import userdata\n",
        "GOOGLE_API_KEY = userdata.get('GOOGLE_API_KEY_1')\n",
        "genai.configure(api_key=GOOGLE_API_KEY)"
      ],
      "metadata": {
        "id": "RovTU8-mhIH6"
      },
      "execution_count": 15,
      "outputs": []
    },
    {
      "cell_type": "code",
      "source": [
        "import PyPDF2\n",
        "def extract_text_from_pdf(pdf_path):\n",
        "  \"\"\"Extracts text from a given health report PDF using PyPDF2.\"\"\"\n",
        "  text = \"\"\n",
        "  with open(pdf_path, \"rb\") as file:\n",
        "        reader = PyPDF2.PdfReader(file)\n",
        "        for page in reader.pages:\n",
        "          text += page.extract_text()+\"\\n\"\n",
        "  return text"
      ],
      "metadata": {
        "id": "EY_z_7R_hVJQ"
      },
      "execution_count": 17,
      "outputs": []
    },
    {
      "cell_type": "code",
      "source": [
        "def extract_health_insights(text):\n",
        "    \"\"\"Asks Gemini AI to extract key medical insights from the report.\"\"\"\n",
        "    model = genai.GenerativeModel(\"gemini-1.5-flash\")\n",
        "    prompt = f\"Extract key insights from the following health report:\\n\\n{text}\"\n",
        "    response = model.generate_content(prompt)\n",
        "    return response.text\n",
        "\n",
        "# Example Usage\n",
        "pdf_file = \"health_report.pdf\"\n",
        "extracted_text = extract_text_from_pdf(pdf_file)\n",
        "insights = extract_health_insights(extracted_text)\n",
        "print(\"Key Insights:\\n\", insights)"
      ],
      "metadata": {
        "colab": {
          "base_uri": "https://localhost:8080/",
          "height": 523
        },
        "id": "845OFpOaiE5G",
        "outputId": "6d11448d-c5b8-4d3e-a71f-26b3abf08446"
      },
      "execution_count": 18,
      "outputs": [
        {
          "output_type": "stream",
          "name": "stdout",
          "text": [
            "Key Insights:\n",
            " Mr. Kishan Goud's (MR Number: MR2100003157) health report from February 1st, 2021, reveals the following key insights:\n",
            "\n",
            "**Infectious Disease Screen:**\n",
            "\n",
            "* **Negative for Dengue:**  Tests for Dengue NS1 antigen, IgG, and IgM antibodies were all negative.\n",
            "* **Negative for Malaria:** Rapid Malaria tests for Plasmodium vivax (P.V) and Plasmodium falciparum (P.F) were negative.\n",
            "* **Possible Typhoid Exposure (Widal Test):**  While the Widal test showed elevated titers for *Salmonella Typhi* \"O\" (1:160) and \"H\" (1:80), interpretation requires clinical correlation.  The reference range is 1:20, indicating a higher than normal level, suggesting possible past or present exposure to typhoid.  However, this test is not definitive and further investigation might be needed.  *Salmonella Paratyphi* \"A\" and \"B\" titers were within the normal range (1:20).\n",
            "\n",
            "**Hematology:**\n",
            "\n",
            "* **Elevated ESR:**  Erythrocyte Sedimentation Rate (ESR) was significantly elevated (26 mm/hr in the first hour, 52 mm/hr in the second hour), suggesting inflammation or infection.\n",
            "* **Complete Blood Count (CBC) Mostly Normal:**  Hemoglobin, RBC, WBC, Platelets, and PCV were within or near the normal ranges.  Differential count showed normal ranges for neutrophils, lymphocytes, eosinophils, monocytes, and basophils.\n",
            "* **Normal Blood Smear:** Peripheral blood smear showed normochromic and normocytic red blood cells, and WBCs and platelets within normal limits.\n",
            "\n",
            "**Blood Chemistry:**\n",
            "\n",
            "* **Normal Blood Glucose (Random):** Random blood glucose was within the normal range.\n",
            "* **Normal HbA1c:** HbA1c level indicates good blood glucose control (5.4%, within the normal non-diabetic range).\n",
            "* **Normal Liver Function Tests (LFTs):**  All liver function tests (serum bilirubin – total, direct, and indirect; alkaline phosphatase, SGOT, SGPT, total protein, albumin, globulin, and A/G ratio) were within normal ranges.\n",
            "* **Normal Creatinine:** Serum creatinine was within the normal range.\n",
            "* **Slightly Low Serum Sodium:** Serum sodium was slightly below the normal range (122 mmol/l, reference range 135-146 mmol/l).  This warrants further investigation to determine the cause. Potassium and Chloride levels were within the normal range.\n",
            "\n",
            "\n",
            "**Overall:**\n",
            "\n",
            "The report shows evidence of inflammation or infection (elevated ESR).  The elevated typhoid antibodies warrant further investigation, along with the slightly low sodium.  Other tested parameters, including blood glucose, liver function, kidney function, and complete blood count are generally within normal limits.  The results necessitate clinical correlation by Dr. Krishna Prasad to determine the appropriate diagnosis and management plan.  The negative results for dengue and malaria rule out these infections.\n",
            "\n"
          ]
        }
      ]
    },
    {
      "cell_type": "code",
      "source": [
        "def summarize_health_report(text):\n",
        "  \"\"\"Summarize the health report using Gemini AI.\"\"\"\n",
        "  model=genai.GenerativeModel(\"gemini-1.5-flash\")\n",
        "  prompt=f\"Summarize the following health report in a concise manner:\\n\\n{text}\"\n",
        "  response=model.generate_content(prompt)\n",
        "  return response.text\n",
        "summary=summarize_health_report(extracted_text)\n",
        "print(\"Summary:\\n\",summary)"
      ],
      "metadata": {
        "colab": {
          "base_uri": "https://localhost:8080/",
          "height": 332
        },
        "id": "cDx6j43UlM81",
        "outputId": "dcbc218a-bdfb-437b-8c88-8378173b4935"
      },
      "execution_count": 19,
      "outputs": [
        {
          "output_type": "stream",
          "name": "stdout",
          "text": [
            "Summary:\n",
            " Mr. Kishan Goud's (MRN: MR2100003157) lab results from 01/02/2021 show:\n",
            "\n",
            "* **Widal Test:** Elevated titers for *Salmonella Typhi* \"O\" (1:160) and \"H\" (1:80), suggesting possible typhoid infection.  *Salmonella Paratyphi* AH and BH were within normal limits.\n",
            "* **Dengue Serology:** Negative for NS1 antigen, IgG, and IgM.\n",
            "* **ESR:** Elevated (26 mm/hr 1st hour, 52 mm/hr 2nd hour), indicating inflammation.\n",
            "* **Malaria Test:** Negative for *Plasmodium falciparum* and *Plasmodium vivax*.\n",
            "* **Complete Blood Picture:**  Hemoglobin, RBC, WBC, and platelets within normal ranges.  Differential count also within normal limits.\n",
            "* **HbA1c:** 5.4% (within normal non-diabetic range).\n",
            "* **Serum Creatinine:** 0.8 mg/dl (within normal range).\n",
            "* **Random Blood Glucose:**  Not provided in this summary.\n",
            "* **Liver Function Tests:**  All values within normal ranges.\n",
            "* **Serum Electrolytes:** Sodium slightly low (122 mmol/l), potassium and chloride within normal ranges.\n",
            "\n",
            "\n",
            "**Note:**  This summary does not include all numerical values reported and only reflects whether results were within or outside of the reference ranges.  A medical professional should interpret these results in the context of the patient's clinical presentation.\n",
            "\n"
          ]
        }
      ]
    },
    {
      "cell_type": "code",
      "source": [
        "def detect_abnormalities(text):\n",
        "  \"\"\"Analyzes lab test results and flags abnormal values.\"\"\"\n",
        "  model=genai.GenerativeModel(\"gemini-1.5-flash\")\n",
        "  prompt=f\"Analyze the lab test results in the following health report and highlight any abnormal values:\\n\\n{text}\"\n",
        "  response=model.generate_content(prompt)\n",
        "  return response.text\n",
        "\n",
        "abnormalities=detect_abnormalities(extracted_text)\n",
        "print(\"Potential Abnormalities:\\n\", abnormalities)"
      ],
      "metadata": {
        "colab": {
          "base_uri": "https://localhost:8080/",
          "height": 193
        },
        "id": "XYott-1pn7xY",
        "outputId": "b6859ffa-a60a-401c-bfb5-4bd5bdbbb325"
      },
      "execution_count": 25,
      "outputs": [
        {
          "output_type": "stream",
          "name": "stdout",
          "text": [
            "Potential Abnormalities:\n",
            " Based on the provided lab results, the following values are outside the reference ranges, indicating potential abnormalities:\n",
            "\n",
            "* **Widal Test:**  S. Typhi \"O\" (1:160) and S. Typhi \"H\" (1:80) are significantly higher than the reference range of 1:20. This suggests a possible past or present infection with *Salmonella Typhi*, the bacteria causing typhoid fever.  The high titers indicate a stronger immune response.  Further investigation may be needed to confirm an active infection.\n",
            "\n",
            "* **ESR (Erythrocyte Sedimentation Rate):** Both the 1st hour (26 mm/hr) and 2nd hour (52 mm/hr) values are considerably elevated above the normal range (0-8 mm/hr for the first hour).  This indicates inflammation or infection somewhere in the body. The high ESR, coupled with the positive Widal test, further supports the possibility of typhoid fever or another inflammatory condition.\n",
            "\n",
            "The rest of the reported values fall within their respective reference ranges, including the complete blood picture, liver function tests, HbA1c, and electrolytes.  However, it's crucial to note that interpreting these results requires a medical professional's expertise, considering the patient's overall clinical presentation, medical history, and other relevant factors.  The elevated Widal and ESR results warrant further investigation and appropriate medical management.\n",
            "\n"
          ]
        }
      ]
    },
    {
      "cell_type": "code",
      "source": [
        "def explain_medical_terms(text):\n",
        "  \"\"\"Asks Gemini AI to simplify medical terms for patient understanding.\"\"\"\n",
        "  model=genai.GenerativeModel(\"gemini-1.5-flash\")\n",
        "  prompt=f\"Explain the medical terms in the following health report in simple language:\\n\\n{text}\"\n",
        "  response=model.generate_content(prompt)\n",
        "  return response.text\n",
        "explanation=explain_medical_terms(extracted_text)\n",
        "print(\"Simplified Terms:\\n\", explanation)"
      ],
      "metadata": {
        "colab": {
          "base_uri": "https://localhost:8080/",
          "height": 957
        },
        "id": "0ny9MvI7pQUy",
        "outputId": "c9a3a77e-53e9-4d8e-d5ee-3b05a257e410"
      },
      "execution_count": 26,
      "outputs": [
        {
          "output_type": "stream",
          "name": "stdout",
          "text": [
            "Simplified Terms:\n",
            " This report shows the results of several blood tests performed on Mr. Kishan Goud. Let's break down each section:\n",
            "\n",
            "**1. WIDAL Test:** This test checks for antibodies against *Salmonella typhi* and *Salmonella paratyphi*, bacteria that cause typhoid fever and paratyphoid fever.  The numbers (e.g., 1:160) represent the dilution of the blood sample at which antibodies were still detected.  A higher number suggests a greater likelihood of infection.  In this case:\n",
            "\n",
            "* **S. Typhi \"O\" 1:160:**  Suggests a possible past or present infection with *Salmonella Typhi*.  The \"O\" refers to a specific antigen of the bacteria.\n",
            "* **S. Typhi \"H\" 1:80:**  Also suggests a possible past or present infection with *Salmonella Typhi*. The \"H\" refers to a different antigen of the bacteria.\n",
            "* **S. Paratyphi \"AH\" 1:20:** Within the normal range, suggesting no recent infection with this *Salmonella* type.\n",
            "* **S. Paratyphi \"BH\" 1:20:** Within the normal range, suggesting no recent infection with this *Salmonella* type.\n",
            "\n",
            "**2. Dengue Serology:** This tests for dengue fever, a viral infection spread by mosquitoes.  The results are all negative, meaning no evidence of a current dengue infection.\n",
            "\n",
            "* **Dengue NS1 Antigen:** Negative (meaning no dengue virus antigen was detected).\n",
            "* **Dengue IgG:** Negative (meaning no IgG antibodies against dengue were detected. IgG antibodies typically show past infection).\n",
            "* **Dengue IgM:** Negative (meaning no IgM antibodies against dengue were detected. IgM antibodies typically indicate a recent or current infection).\n",
            "\n",
            "**3. Erythrocyte Sedimentation Rate (ESR):** This test measures how quickly red blood cells settle at the bottom of a test tube.  A high ESR can indicate inflammation or infection in the body.  Mr. Goud's ESR is elevated (26 mm/hr in the first hour, 52 mm/hr in the second hour), suggesting the presence of inflammation.\n",
            "\n",
            "**4. Rapid Malaria Test:** This is a quick test to detect malaria parasites in the blood. Both tests (for *Plasmodium vivax* (P.V) and *Plasmodium falciparum* (P.F), the two most common types) were negative, meaning no malaria was detected.\n",
            "\n",
            "**5. Complete Blood Picture (CBC):** This is a comprehensive blood test that provides information about various components of the blood:\n",
            "\n",
            "* **Hemoglobin (Hb):**  13.6 g/dL (within the normal range for males). This measures the oxygen-carrying capacity of the blood.\n",
            "* **Red Blood Cells (RBC):** 4.3 million/cumm (slightly low, but still within the acceptable range). These are responsible for carrying oxygen.\n",
            "* **White Blood Cells (WBC):** 7200 cells/cumm (within the normal range). These fight infection.\n",
            "* **Platelets:** 2.0 lakhs/cumm (within the normal range). These help with blood clotting.\n",
            "* **Packed Cell Volume (PCV):** 40.5% (within the normal range). This indicates the percentage of red blood cells in the blood.\n",
            "* **Differential Count:** This breaks down the types of white blood cells. All values are within the normal range.\n",
            "* **Peripheral Blood Smear:** The overall appearance of the blood cells under a microscope was normal.\n",
            "\n",
            "**6. HbA1c:** This test measures the average blood sugar level over the past 2-3 months.  Mr. Goud's HbA1c is 5.4%, which is in the normal range for someone without diabetes.\n",
            "\n",
            "**7. Serum Creatinine:** This measures kidney function. Mr. Goud's creatinine level (0.8 mg/dL) is within the normal range.\n",
            "\n",
            "**8. Random Blood Glucose:** This measures blood sugar at a random time.  Mr. Goud's level is within the normal range.\n",
            "\n",
            "**9. Liver Function Test (LFT):** These tests assess liver health. All values are within normal limits, except for slight elevation in the ESR result.\n",
            "\n",
            "* **Total Bilirubin:** Measures the amount of bilirubin (a breakdown product of red blood cells) in the blood.\n",
            "* **Direct Bilirubin:** A type of bilirubin.\n",
            "* **Indirect Bilirubin:** Another type of bilirubin.\n",
            "* **Alkaline Phosphatase:** An enzyme found in the liver and bones.\n",
            "* **SGOT (AST) and SGPT (ALT):** Enzymes found in the liver, high levels may indicate liver damage. Both are slightly elevated above the lower limit of normal, but still within the acceptable range.\n",
            "* **Total Protein and Albumin:** Proteins in the blood.\n",
            "* **Globulin:** Another blood protein.\n",
            "* **A/G Ratio:** The ratio of albumin to globulin.\n",
            "\n",
            "\n",
            "**10. Serum Electrolytes:** These tests measure the levels of sodium, potassium, and chloride in the blood, which are essential for various bodily functions.  Sodium is slightly low. Potassium and chloride are within the normal ranges.\n",
            "\n",
            "\n",
            "**In summary:** The results show some signs of inflammation (elevated ESR), slightly low sodium and red blood cells; otherwise, most tests are within normal ranges. The elevated ESR warrants further investigation to determine the cause of inflammation.  The slightly elevated liver enzymes also warrant monitoring.  The doctor should interpret these results in the context of Mr. Goud's symptoms and medical history.  This explanation is for informational purposes only and should not be considered medical advice.\n",
            "\n"
          ]
        }
      ]
    },
    {
      "cell_type": "code",
      "source": [
        "def ask_gemini_about_report(text, question):\n",
        "    \"\"\"Allows users to ask questions about their health report.\"\"\"\n",
        "    model = genai.GenerativeModel(\"gemini-1.5-flash\")\n",
        "    prompt = f\"The following is a health report:\\n\\n{text}\\n\\nAnswer the following question based on the report:\\n{question}\"\n",
        "    response = model.generate_content(prompt)\n",
        "    return response.text\n",
        "\n",
        "question = \"What is the patient's diagnosis?\"\n",
        "answer = ask_gemini_about_report(extracted_text, question)\n",
        "print(\"Answer:\\n\", answer)"
      ],
      "metadata": {
        "colab": {
          "base_uri": "https://localhost:8080/",
          "height": 89
        },
        "id": "nXsiEkFerYRD",
        "outputId": "832b769b-20ca-4ea2-dc8d-9ff140c75f5c"
      },
      "execution_count": 28,
      "outputs": [
        {
          "output_type": "stream",
          "name": "stdout",
          "text": [
            "Answer:\n",
            " The provided lab report does not offer a diagnosis.  It only presents test results.  The elevated ESR (erythrocyte sedimentation rate) of 26 mm/hr in the first hour and 52 mm/hr in the second hour suggests *inflammation* somewhere in the body, but that's not a diagnosis itself.  The slightly elevated S. Typhi \"O\" titer (1:160) might indicate past exposure to typhoid fever, but not necessarily current infection.  All other results are within normal ranges or negative for the conditions tested (dengue, malaria).  A doctor needs to interpret these results in conjunction with the patient's symptoms and medical history to make a diagnosis.\n",
            "\n"
          ]
        }
      ]
    },
    {
      "cell_type": "code",
      "source": [],
      "metadata": {
        "id": "yn8c1-prrdtM"
      },
      "execution_count": null,
      "outputs": []
    }
  ]
}